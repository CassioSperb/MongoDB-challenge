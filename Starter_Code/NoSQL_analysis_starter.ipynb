{
 "cells": [
  {
   "cell_type": "markdown",
   "id": "9a57c4c6",
   "metadata": {},
   "source": [
    "# Eat Safe, Love"
   ]
  },
  {
   "cell_type": "markdown",
   "id": "064ef857",
   "metadata": {},
   "source": [
    "## Notebook Set Up"
   ]
  },
  {
   "cell_type": "code",
   "execution_count": 6,
   "id": "3ecdd008",
   "metadata": {},
   "outputs": [],
   "source": [
    "from pymongo import MongoClient\n",
    "import pandas as pd\n",
    "from pprint import pprint"
   ]
  },
  {
   "cell_type": "code",
   "execution_count": 2,
   "id": "59390c4a",
   "metadata": {},
   "outputs": [],
   "source": [
    "# Create an instance of MongoClient\n",
    "mongo = MongoClient(port=27017)"
   ]
  },
  {
   "cell_type": "code",
   "execution_count": 3,
   "id": "71e373c1",
   "metadata": {},
   "outputs": [],
   "source": [
    "# assign the uk_food database to a variable name\n",
    "db = mongo['uk_food']"
   ]
  },
  {
   "cell_type": "code",
   "execution_count": 4,
   "id": "18ab463c",
   "metadata": {},
   "outputs": [
    {
     "name": "stdout",
     "output_type": "stream",
     "text": [
      "['establishments']\n"
     ]
    }
   ],
   "source": [
    "# review the collections in our database\n",
    "print(db.list_collection_names())"
   ]
  },
  {
   "cell_type": "code",
   "execution_count": 5,
   "id": "11c9f11b",
   "metadata": {},
   "outputs": [],
   "source": [
    "# assign the collection to a variable\n",
    "establishments = db['establishments']"
   ]
  },
  {
   "cell_type": "markdown",
   "id": "d5671434",
   "metadata": {},
   "source": [
    "## Part 3: Exploratory Analysis\n",
    "Unless otherwise stated, for each question: \n",
    "* Use `count_documents` to display the number of documents contained in the result.\n",
    "* Display the first document in the results using `pprint`.\n",
    "* Convert the result to a Pandas DataFrame, print the number of rows in the DataFrame, and display the first 10 rows."
   ]
  },
  {
   "cell_type": "markdown",
   "id": "314bd884",
   "metadata": {},
   "source": [
    "### 1. Which establishments have a hygiene score equal to 20?"
   ]
  },
  {
   "cell_type": "code",
   "execution_count": 15,
   "id": "c2da7648",
   "metadata": {},
   "outputs": [
    {
     "name": "stdout",
     "output_type": "stream",
     "text": [
      "Number of documents with a hygiene score of 20: 41\n",
      "{'AddressLine1': '5-6 Southfields Road',\n",
      " 'AddressLine2': 'Eastbourne',\n",
      " 'AddressLine3': 'East Sussex',\n",
      " 'AddressLine4': '',\n",
      " 'BusinessName': 'The Chase Rest Home',\n",
      " 'BusinessType': 'Caring Premises',\n",
      " 'BusinessTypeID': 5,\n",
      " 'ChangesByServerID': 0,\n",
      " 'Distance': 4613.888288172291,\n",
      " 'FHRSID': 110681,\n",
      " 'LocalAuthorityBusinessID': '4029',\n",
      " 'LocalAuthorityCode': '102',\n",
      " 'LocalAuthorityEmailAddress': 'Customerfirst@eastbourne.gov.uk',\n",
      " 'LocalAuthorityName': 'Eastbourne',\n",
      " 'LocalAuthorityWebSite': 'http://www.eastbourne.gov.uk/foodratings',\n",
      " 'NewRatingPending': False,\n",
      " 'Phone': '',\n",
      " 'PostCode': 'BN21 1BU',\n",
      " 'RatingDate': '2021-09-23T00:00:00',\n",
      " 'RatingKey': 'fhrs_0_en-gb',\n",
      " 'RatingValue': 0,\n",
      " 'RightToReply': '',\n",
      " 'SchemeType': 'FHRS',\n",
      " '_id': ObjectId('66f9dea03c299f3595ae0e05'),\n",
      " 'geocode': {'latitude': None, 'longitude': None},\n",
      " 'links': [{'href': 'https://api.ratings.food.gov.uk/establishments/110681',\n",
      "            'rel': 'self'}],\n",
      " 'meta': {'dataSource': None,\n",
      "          'extractDate': '0001-01-01T00:00:00',\n",
      "          'itemCount': 0,\n",
      "          'pageNumber': 0,\n",
      "          'pageSize': 0,\n",
      "          'returncode': None,\n",
      "          'totalCount': 0,\n",
      "          'totalPages': 0},\n",
      " 'scores': {'ConfidenceInManagement': 20, 'Hygiene': 20, 'Structural': 20}}\n"
     ]
    }
   ],
   "source": [
    "# Find the establishments with a hygiene score of 20\n",
    "query = {'scores.Hygiene': 20}\n",
    "\n",
    "# Use count_documents to display the number of documents in the result\n",
    "hygiene_20 = establishments.count_documents(query)\n",
    "print(f\"Number of documents with a hygiene score of 20: {hygiene_20}\")\n",
    "# Display the first document in the results using pprint\n",
    "first_doc = establishments.find_one(query)\n",
    "pprint(first_doc)"
   ]
  },
  {
   "cell_type": "code",
   "execution_count": 17,
   "id": "a6e5cece",
   "metadata": {},
   "outputs": [
    {
     "name": "stdout",
     "output_type": "stream",
     "text": [
      "Number of rows in the DataFrame: 41\n",
      "                        _id   FHRSID  ChangesByServerID  \\\n",
      "0  66f9dea03c299f3595ae0e05   110681                  0   \n",
      "1  66f9dea03c299f3595ae1186   612039                  0   \n",
      "2  66f9dea03c299f3595ae1490   730933                  0   \n",
      "3  66f9dea03c299f3595ae167a   172735                  0   \n",
      "4  66f9dea03c299f3595ae168c   172953                  0   \n",
      "5  66f9dea03c299f3595ae2028   512854                  0   \n",
      "6  66f9dea03c299f3595ae224d  1537089                  0   \n",
      "7  66f9dea03c299f3595ae3786   155648                  0   \n",
      "8  66f9dea13c299f3595ae3bbc  1012883                  0   \n",
      "9  66f9dea13c299f3595ae43ce   644109                  0   \n",
      "\n",
      "  LocalAuthorityBusinessID               BusinessName  \\\n",
      "0                     4029        The Chase Rest Home   \n",
      "1                1970/FOOD                 Brenalwood   \n",
      "2                1698/FOOD              Melrose Hotel   \n",
      "3             PI/000023858              Seaford Pizza   \n",
      "4             PI/000024532              Golden Palace   \n",
      "5            12/00816/BUTH           Ashby's Butchers   \n",
      "6          22/00224/RESTUN  South Sea Express Cuisine   \n",
      "7              EH/00006058              Golden Palace   \n",
      "8         17/00110/MIXED/S             The Tulip Tree   \n",
      "9                    41811                      F & S   \n",
      "\n",
      "                        BusinessType  BusinessTypeID           AddressLine1  \\\n",
      "0                    Caring Premises               5   5-6 Southfields Road   \n",
      "1                    Caring Premises               5              Hall Lane   \n",
      "2  Hotel/bed & breakfast/guest house            7842  53 Marine Parade East   \n",
      "3             Takeaway/sandwich shop            7844          4 High Street   \n",
      "4            Restaurant/Cafe/Canteen               1         5 South Street   \n",
      "5                  Retailers - other            4613   777 Southchurch Road   \n",
      "6            Restaurant/Cafe/Canteen               1    33 Alexandra Street   \n",
      "7             Takeaway/sandwich shop            7844          7 London Road   \n",
      "8            Restaurant/Cafe/Canteen               1          3 The Village   \n",
      "9                  Retailers - other            4613                          \n",
      "\n",
      "         AddressLine2 AddressLine3  ...  \\\n",
      "0          Eastbourne  East Sussex  ...   \n",
      "1  Walton-on-the-Naze        Essex  ...   \n",
      "2      Clacton On Sea        Essex  ...   \n",
      "3             Seaford  East Sussex  ...   \n",
      "4             Seaford  East Sussex  ...   \n",
      "5     Southend-On-Sea        Essex  ...   \n",
      "6     Southend-on-sea        Essex  ...   \n",
      "7            Rayleigh        Essex  ...   \n",
      "8       Chiddingstone         KENT  ...   \n",
      "9      81 Southernhay     Basildon  ...   \n",
      "\n",
      "                      LocalAuthorityWebSite  \\\n",
      "0  http://www.eastbourne.gov.uk/foodratings   \n",
      "1             http://www.tendringdc.gov.uk/   \n",
      "2             http://www.tendringdc.gov.uk/   \n",
      "3       http://www.lewes-eastbourne.gov.uk/   \n",
      "4       http://www.lewes-eastbourne.gov.uk/   \n",
      "5                http://www.southend.gov.uk   \n",
      "6                http://www.southend.gov.uk   \n",
      "7                http://www.rochford.gov.uk   \n",
      "8              http://www.sevenoaks.gov.uk/   \n",
      "9                http://www.basildon.gov.uk   \n",
      "\n",
      "              LocalAuthorityEmailAddress  \\\n",
      "0        Customerfirst@eastbourne.gov.uk   \n",
      "1             fhsadmin@tendringdc.gov.uk   \n",
      "2             fhsadmin@tendringdc.gov.uk   \n",
      "3    ehealth.ldc@lewes-eastbourne.gov.uk   \n",
      "4    ehealth.ldc@lewes-eastbourne.gov.uk   \n",
      "5    EnvironmentalHealth@southend.gov.uk   \n",
      "6    EnvironmentalHealth@southend.gov.uk   \n",
      "7       customerservices@rochford.gov.uk   \n",
      "8  environmental.health@sevenoaks.gov.uk   \n",
      "9                    ehs@basildon.gov.uk   \n",
      "\n",
      "                                              scores  SchemeType  \\\n",
      "0  {'Hygiene': 20, 'Structural': 20, 'ConfidenceI...        FHRS   \n",
      "1  {'Hygiene': 20, 'Structural': 15, 'ConfidenceI...        FHRS   \n",
      "2  {'Hygiene': 20, 'Structural': 20, 'ConfidenceI...        FHRS   \n",
      "3  {'Hygiene': 20, 'Structural': 10, 'ConfidenceI...        FHRS   \n",
      "4  {'Hygiene': 20, 'Structural': 10, 'ConfidenceI...        FHRS   \n",
      "5  {'Hygiene': 20, 'Structural': 20, 'ConfidenceI...        FHRS   \n",
      "6  {'Hygiene': 20, 'Structural': 20, 'ConfidenceI...        FHRS   \n",
      "7  {'Hygiene': 20, 'Structural': 15, 'ConfidenceI...        FHRS   \n",
      "8  {'Hygiene': 20, 'Structural': 5, 'ConfidenceIn...        FHRS   \n",
      "9  {'Hygiene': 20, 'Structural': 20, 'ConfidenceI...        FHRS   \n",
      "\n",
      "                                 geocode RightToReply     Distance  \\\n",
      "0  {'longitude': None, 'latitude': None}               4613.888288   \n",
      "1  {'longitude': None, 'latitude': None}               4617.965824   \n",
      "2  {'longitude': None, 'latitude': None}               4619.656144   \n",
      "3  {'longitude': None, 'latitude': None}               4620.421725   \n",
      "4  {'longitude': None, 'latitude': None}               4620.437179   \n",
      "5  {'longitude': None, 'latitude': None}               4625.565258   \n",
      "6  {'longitude': None, 'latitude': None}               4626.200132   \n",
      "7  {'longitude': None, 'latitude': None}               4632.276890   \n",
      "8  {'longitude': None, 'latitude': None}               4633.934041   \n",
      "9  {'longitude': None, 'latitude': None}               4636.552523   \n",
      "\n",
      "  NewRatingPending                                               meta  \\\n",
      "0            False  {'dataSource': None, 'extractDate': '0001-01-0...   \n",
      "1            False  {'dataSource': None, 'extractDate': '0001-01-0...   \n",
      "2            False  {'dataSource': None, 'extractDate': '0001-01-0...   \n",
      "3            False  {'dataSource': None, 'extractDate': '0001-01-0...   \n",
      "4            False  {'dataSource': None, 'extractDate': '0001-01-0...   \n",
      "5            False  {'dataSource': None, 'extractDate': '0001-01-0...   \n",
      "6            False  {'dataSource': None, 'extractDate': '0001-01-0...   \n",
      "7            False  {'dataSource': None, 'extractDate': '0001-01-0...   \n",
      "8            False  {'dataSource': None, 'extractDate': '0001-01-0...   \n",
      "9            False  {'dataSource': None, 'extractDate': '0001-01-0...   \n",
      "\n",
      "                                               links  \n",
      "0  [{'rel': 'self', 'href': 'https://api.ratings....  \n",
      "1  [{'rel': 'self', 'href': 'https://api.ratings....  \n",
      "2  [{'rel': 'self', 'href': 'https://api.ratings....  \n",
      "3  [{'rel': 'self', 'href': 'https://api.ratings....  \n",
      "4  [{'rel': 'self', 'href': 'https://api.ratings....  \n",
      "5  [{'rel': 'self', 'href': 'https://api.ratings....  \n",
      "6  [{'rel': 'self', 'href': 'https://api.ratings....  \n",
      "7  [{'rel': 'self', 'href': 'http://api.ratings.f...  \n",
      "8  [{'rel': 'self', 'href': 'http://api.ratings.f...  \n",
      "9  [{'rel': 'self', 'href': 'http://api.ratings.f...  \n",
      "\n",
      "[10 rows x 28 columns]\n"
     ]
    }
   ],
   "source": [
    "# Convert the result to a Pandas DataFrame\n",
    "hygiene_20_all = establishments.find(query)\n",
    "hygiene_20_all_df = pd.DataFrame(list(hygiene_20_all))\n",
    "# Display the number of rows in the DataFrame\n",
    "print(f\"Number of rows in the DataFrame: {len(hygiene_20_all_df)}\")\n",
    "# Display the first 10 rows of the DataFrame\n",
    "print(hygiene_20_all_df.head(10))"
   ]
  },
  {
   "cell_type": "markdown",
   "id": "0ef4395a",
   "metadata": {},
   "source": [
    "### 2. Which establishments in London have a `RatingValue` greater than or equal to 4?"
   ]
  },
  {
   "cell_type": "code",
   "execution_count": null,
   "id": "93c63829",
   "metadata": {},
   "outputs": [],
   "source": [
    "# Find the establishments with London as the Local Authority and has a RatingValue greater than or equal to 4.\n",
    "query = {\n",
    "    'LocalAuthorityName': \"London\", 'RaitingValue': >=4\n",
    "}\n",
    "\n",
    "# Use count_documents to display the number of documents in the result\n",
    "lon\n",
    "# Display the first document in the results using pprint\n"
   ]
  },
  {
   "cell_type": "code",
   "execution_count": null,
   "id": "07e24ccb",
   "metadata": {},
   "outputs": [],
   "source": [
    "# Convert the result to a Pandas DataFrame\n",
    "\n",
    "# Display the number of rows in the DataFrame\n",
    "\n",
    "# Display the first 10 rows of the DataFrame\n"
   ]
  },
  {
   "attachments": {},
   "cell_type": "markdown",
   "id": "4e570caf",
   "metadata": {},
   "source": [
    "### 3. What are the top 5 establishments with a `RatingValue` rating value of 5, sorted by lowest hygiene score, nearest to the new restaurant added, \"Penang Flavours\"?"
   ]
  },
  {
   "cell_type": "code",
   "execution_count": null,
   "id": "7f599f3d",
   "metadata": {},
   "outputs": [],
   "source": [
    "# Search within 0.01 degree on either side of the latitude and longitude.\n",
    "# Rating value must equal 5\n",
    "# Sort by hygiene score\n",
    "\n",
    "degree_search = 0.01\n",
    "latitude =\n",
    "longitude =\n",
    "\n",
    "query =\n",
    "sort =\n",
    "limit =\n",
    "\n",
    "# Print the results\n"
   ]
  },
  {
   "cell_type": "code",
   "execution_count": null,
   "id": "a6ad16f7",
   "metadata": {},
   "outputs": [],
   "source": [
    "# Convert result to Pandas DataFrame\n"
   ]
  },
  {
   "cell_type": "markdown",
   "id": "67281254",
   "metadata": {},
   "source": [
    "### 4. How many establishments in each Local Authority area have a hygiene score of 0?"
   ]
  },
  {
   "cell_type": "code",
   "execution_count": null,
   "id": "4eeb227e",
   "metadata": {},
   "outputs": [],
   "source": [
    "# Create a pipeline that:\n",
    "# 1. Matches establishments with a hygiene score of 0\n",
    "# 2. Groups the matches by Local Authority\n",
    "# 3. Sorts the matches from highest to lowest\n",
    "\n",
    "# Print the number of documents in the result\n",
    "\n",
    "# Print the first 10 results\n"
   ]
  },
  {
   "cell_type": "code",
   "execution_count": null,
   "id": "d8aab364",
   "metadata": {},
   "outputs": [],
   "source": [
    "# Convert the result to a Pandas DataFrame\n",
    "\n",
    "# Display the number of rows in the DataFrame\n",
    "\n",
    "# Display the first 10 rows of the DataFrame\n"
   ]
  }
 ],
 "metadata": {
  "kernelspec": {
   "display_name": "Python 3 (ipykernel)",
   "language": "python",
   "name": "python3"
  },
  "language_info": {
   "codemirror_mode": {
    "name": "ipython",
    "version": 3
   },
   "file_extension": ".py",
   "mimetype": "text/x-python",
   "name": "python",
   "nbconvert_exporter": "python",
   "pygments_lexer": "ipython3",
   "version": "3.12.4"
  }
 },
 "nbformat": 4,
 "nbformat_minor": 5
}
